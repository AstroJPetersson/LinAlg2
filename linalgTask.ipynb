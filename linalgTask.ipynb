{
 "cells": [
  {
   "cell_type": "markdown",
   "metadata": {},
   "source": [
    "# Linear Algebra Project: Special Relativity\n",
    "\n",
    "In this project we will investigate the <a href=\"https://en.wikipedia.org/wiki/Special_relativity\"> Special Theory of Relativity</a> (SR), formulated using linear algebra. Those of you who have previous learned about SR have possibly heard terms like 'four-vector' tossed around. In fact, one of the great insights of SR was that one, in order to make a proper description of motions, needed to treat space and time on equal footing, and thus write the whole theory with vectors that also has a time component.\n",
    "\n",
    "It is often the case that one can solve a problem in one \"frame\", but want the result in another. To transform a result (a position or velocity, represented as a vector) from one frame to another, linear algebra is used. Linear algebra is really a good language for theories of motion, especially relativistic theories.\n",
    "\n",
    "There are exercises written in the text. You should add your answers in a new cell below the exercise. Some exercises require you to do some pen and paper math, this should be properly explained in the answer. You can write latex math in the notebook using `$` delimiter, just double-click on any math in the intructions to see examples.\n",
    "\n",
    "Some exercises require you to do some coding in python and make figures. The code must be executable in the notebook, and should produce desired figures/results/etc. when executed. The code is also expected to be legible, with sensible variable names, and adequately commented.\n",
    "\n",
    "The exercise consists of three parts, as numbered sections in this notebook. The three parts are\n",
    "   1. Galilean transformations and aberration of starlight\n",
    "   2. Derivation of the Lorentz transformation  \n",
    "   3. Relativistic aberration    \n",
    "\n",
    "Once a part of the exercise is completed, save all work, including questions and everything, and send the notebook per email to your instructor. Information about deadlines is in a separate document.\n",
    "\n",
    "Have fun!"
   ]
  },
  {
   "cell_type": "markdown",
   "metadata": {},
   "source": [
    "<!--- %%latex -->\n",
    "# 1. Galilei transformations#\n",
    "\n",
    "Before going to SR, it is useful to introduce the central concepts in the context of ordinary classical mechanics. Transformations between corrdinate systems moving with a constant speed wrt. each other, are called Galilei transformations, after <a href=\"http://en.wikipedia.org/wiki/Galileo_Galilei\">Galileo Galilei</a>.\n",
    "Given two systems, $S$ and $S'$, where $S'$ is moving with the velocity $v$, along the $x$-direction, with respect to $S$, we have a linear relationship between the space-time coordinates of the two systems:\n",
    "\n",
    "$\\begin{pmatrix} t' \\\\ x' \\end{pmatrix}\n",
    " = \\Gamma \\begin{pmatrix} t \\\\ x \\end{pmatrix}$ with $\\Gamma = \\begin{pmatrix} 1 & 0 \\\\ -v & 1 \\end{pmatrix}$.\n",
    " \n",
    "It is trivial to see, that a transformation with velocity only in the $x$-direction has no influence on the $y$- and $z$-coordinates, and we write here only *one* space coordinate ($x$) (as it simplifies notation). Transformations with respect to velocities in the $y$ and $z$ directions are of course similar.\n",
    "\n",
    "**Exercise 1.1**\n",
    "\n",
    "How does the transformation matrix look for velocities (*i.e.* first derivative wrt. $t$)? Derive this, and confirm that the $\\Gamma$-matrix is identical for the two.\n",
    "\n",
    "**Exercise 1.2**\n",
    "\n",
    "Write in python a class representing a two-vector in space, *i.e.* the position vector $(x,y)$ or equivalently $(v_x, v_y)$, the velocities in the two directions. Since the $t$ component does not transform, it should not be included, but you may have to consider it in some of the methods anyway.\n",
    "\n",
    "The class should include the following methods:\n",
    "* A constructor taking an $x$- and $y$-coordinate as argument.\n",
    "* Given a two-vector, return the angle between the $x$-axis and the two-vector.\n",
    "* Given another two-vector, representing velocity, return the corresponding Galilei transformed vector.\n",
    "\n",
    "**Exercise 1.3: Classical aberration of starlight**\n",
    "\n",
    "A good example of effects from such coordinate transformations, is the <a href=\"https://en.wikipedia.org/wiki/Aberration_of_light\">aberration of starlight</a>. When we observe a star from earth, which is moving with a velocity with respect to the star, the apparent position of the star depends on the velocity of the earth -- see the figure (from <a href=\"https://en.wikipedia.org/wiki/File:Simple_stellar_aberration_diagram.svg\">Wikimedia commons</a>).\n",
    "\n",
    "![Aberration of starlight](https://upload.wikimedia.org/wikipedia/commons/9/93/Simple_stellar_aberration_diagram.svg \"Aberration of starlight\")\n",
    "\n",
    "Use the python class you implemented above to make a plot showing $\\phi(v)$ given $\\theta = 90^\\circ, 80^\\circ$ and $70^\\circ$. Test your implementation by comparing the $\\theta = 90^\\circ$ case to the analytic result: $\\phi(v) = 90^\\circ - \\text{atan}(v/c)$. \n",
    "Feel free to find appropriate parameters for earth velocity. For convenience, you can set the speed of light to 1, and in these units set $v = 10^{-4}$ to $10^{0}$.\n",
    "\n"
   ]
  },
  {
   "cell_type": "markdown",
   "metadata": {},
   "source": [
    "** Exercise 1.1 **\n",
    "\\begin{equation*}\n",
    "    t = t'\n",
    "\\end{equation*}\n",
    "\\begin{equation*}\n",
    " G =\n",
    "    \\begin{bmatrix}\n",
    "    1 & 0 \\\\\n",
    "    -v & 1\n",
    "    \\end{bmatrix}\n",
    "\\rightarrow\n",
    "g_1 =\n",
    "    \\begin{bmatrix}\n",
    "    1 & 0\n",
    "    \\end{bmatrix}\n",
    "\\mbox{  and  } g_2 =\n",
    "    \\begin{bmatrix}\n",
    "    v & 1\n",
    "    \\end{bmatrix}\n",
    "\\end{equation*}\n",
    "\n",
    "From there we can derive the following expression for x'\n",
    "\n",
    "\\begin{equation*}\n",
    "    x' = g_2 \\cdot \n",
    "    \\begin{pmatrix}\n",
    "        t \\\\\n",
    "        x\n",
    "    \\end{pmatrix} \n",
    "\\end{equation*}\n",
    "\\begin{equation*}\n",
    "    \\frac{\\mbox{d}}{\\mbox{d}t'} x' = \\frac{\\mbox{d}}{\\mbox{d}t} (  g_2 \\cdot \n",
    "    \\begin{pmatrix}\n",
    "        t \\\\\n",
    "        x\n",
    "    \\end{pmatrix} )\n",
    "    = g_2 \\cdot \\frac{\\mbox{d}}{\\mbox{d}t} \n",
    "        \\begin{pmatrix}\n",
    "        t \\\\\n",
    "        x\n",
    "        \\end{pmatrix}\n",
    "\\end{equation*}\n",
    "\\begin{equation*}\n",
    "    v' = g_2 \\cdot \n",
    "    \\begin{pmatrix}\n",
    "        1 \\\\\n",
    "        v_0\n",
    "    \\end{pmatrix} \n",
    "\\end{equation*}\n",
    "                    "
   ]
  },
  {
   "cell_type": "code",
   "execution_count": 18,
   "metadata": {
    "collapsed": true
   },
   "outputs": [],
   "source": [
    "import numpy as np\n",
    "from scipy import *\n",
    "from scipy.linalg import norm\n",
    "\n",
    "class TwoVector:\n",
    "\t\n",
    "\tdef __init__(self, x, y):\n",
    "\t\tself.x=x\n",
    "\t\tself.y=y\n",
    "\t\t\n",
    "\tdef angle(self):\n",
    "\t\te1=np.array([1, 0]) #creates an unitvector along x\n",
    "\t\tz=np.array([self.x, self.y]) #z is the TwoVector as an array\n",
    "\t\ttheta=np.arccos((dot(z, e1))/norm(z)) #here the angle to the x-axis is calculated\n",
    "\t\treturn theta\n",
    "\t\t\n",
    "\tdef Galilei(self, relativevelocity): #Relativevelocity is the velocity of S' along the x-axis\n",
    "\t\tvxprim = matmul(np.array([relativevelocity, 1]), np.array([1,self.x])) #vprim calculation on x-axis\n",
    "\t\tvyprim = matmul(np.array([0, 1]), np.array([1,self.y])) #vprim calculation on y-axis\n",
    "\t\treturn TwoVector(vxprim,vyprim) #return of vprim vector"
   ]
  },
  {
   "cell_type": "code",
   "execution_count": 25,
   "metadata": {},
   "outputs": [
    {
     "data": {
      "image/png": "[encoded data removed]",
      "text/plain": [
       "<matplotlib.figure.Figure at 0x112d3d4e0>"
      ]
     },
     "metadata": {},
     "output_type": "display_data"
    }
   ],
   "source": [
    "import matplotlib.pyplot as plt\n",
    "\n",
    "def vector(deg): #This function creates an unitvector with \"deg\" degrease angle to the x-axis\n",
    "\tdeg = pi/180 *deg\n",
    "\treturn (np.cos(deg),np.sin(deg))\n",
    "\n",
    "deglist = [90,80,70] #the thetha angles used in exercise 1.3\n",
    "\n",
    "for a in range(3):\n",
    "\tvtransform = []\n",
    "\tfor v in linspace(10e-4,1,100):\t\t\n",
    "\t\taprim = TwoVector(vector(deglist[a])[0],vector(deglist[a])[1]).Galilei(v) #transforming the vector, note that c=1\n",
    "\t\tvtransform.append(aprim.angle()) # adding all the transformed angles to a list.\n",
    "\t\t\n",
    "\tplt.plot(linspace(10e-4,1,100), vtransform) #ploting the angles with respect to v\n",
    "\tplt.legend(deglist)\n",
    "\tplt.xlabel('speed (c)')\t\n",
    "\tplt.ylabel('angle from positive x (rad)')\n",
    "    \n",
    "plt.show()\n",
    "    "
   ]
  },
  {
   "cell_type": "code",
   "execution_count": 26,
   "metadata": {},
   "outputs": [
    {
     "data": {
      "image/png": "[encoded data removed]",
      "text/plain": [
       "<matplotlib.figure.Figure at 0x112ee1f28>"
      ]
     },
     "metadata": {},
     "output_type": "display_data"
    }
   ],
   "source": [
    "listan2 = [] #polting the analytic referense fi(v) = 90 - arctan(v/c)\n",
    "for v in linspace(10e-4,1,100):\n",
    "\tlistan2.append(1/2*pi - arctan(v)) #c=1 gives the expresion\n",
    "plt.plot(linspace(10e-4,1,100),listan2, '-')\n",
    "plt.xlabel('speed (c)')\t\n",
    "plt.ylabel('angle from positive x (rad)')\n",
    "\n",
    "plt.show()\n",
    "\n",
    "#The analytic result corespond very well with our plot for 90 degrees.  \n",
    "\n",
    "#Harald Öhrn, Viktor Hrannar Jónsson, Johan Nilsson, Jonathan Petersson"
   ]
  },
  {
   "cell_type": "markdown",
   "metadata": {},
   "source": [
    "# 2. Minkowski space and Special Relativity\n",
    "\n",
    "### Minkowski space\n",
    "We have by now gotten used to the fact that linear transformations can help us solve problems in physics - at least Newtonian physics. In this part we will replace the Newtonian physics with Special Relativity, and following, we will see how this changes the result of the aberration exercise.\n",
    "\n",
    "Again we want to compare two different inertial coordinate systems, called $S$ and $S'$. Only this time we will not  assume how the transformation matrix looks, we will instead derive it from the assumption underlying SR - that the speed of light is the same in either system. Furthermore assume:\n",
    "\n",
    "* The axes of $S$ and $S'$ are parallel, and (the origin of) $S'$ moves at constant, positive velocity with respect to $S$.\n",
    "* The time readings of $S$ and $S'$ are calibrated such that when the origins of $S$ and $S'$ are equal, also the times $t$ and $t'$ are equal, and furthermore equal to zero.\n",
    "* We work in units where the speed of light is equal to 1, and unitless, so we don't have to drag a factor of $c$ around everywhere.\n",
    " \n",
    "We can now write *space-time coordinates* down for events in the systems $S$ and $S'$:\n",
    "$w = \\begin{pmatrix} t \\\\ x \\\\ y \\\\ z \\end{pmatrix}$ and $w' = \\begin{pmatrix} t' \\\\ x' \\\\ y' \\\\ z' \\end{pmatrix}$\n",
    "Given the velocity with which $S'$ moves wrt. to $S$, we want to find, similarly to $\\Gamma$ in the first exercise, a mapping $\\Lambda: \\mathbb{R}^4 \\mapsto \\mathbb{R}^4$:\n",
    "$\\Lambda \\begin{pmatrix} t \\\\ x \\\\ y \\\\ z \\end{pmatrix} = \\begin{pmatrix} t' \\\\ x' \\\\ y' \\\\ z' \\end{pmatrix}.$\n",
    "\n",
    "We take as an axiom that if: \n",
    "$\\Lambda \\begin{pmatrix} t \\\\ x \\\\ y \\\\ z \\end{pmatrix} = \\begin{pmatrix} t' \\\\ x' \\\\ y' \\\\ z' \\end{pmatrix}$, then  $y'=y$ and $z'=z$. Thus we shall from this point on write four-vectors with the $y$ and $z$ coordinate supressed: $\\begin{pmatrix} t \\\\ x \\end{pmatrix}$\n",
    "\n",
    "We now begin the work of characterizing $\\Lambda$. The first thing we need to note, is that the four-vectors don't live in ordinary Euclidean space, but in the Minkowski space. Vectors in Minkowski space can still be written as a linear combination of $e_1 = \\begin{pmatrix} 1 \\\\ 0 \\end{pmatrix}$ and $e_2 = \\begin{pmatrix} 0 \\\\ 1 \\end{pmatrix}$, but the inner product is now different.\n",
    "\n",
    "Suppose that a flash of light is emitted from the origin of $S$ and $S'$, right when the origins intersect. After a time $t$ or $t'$ in the two systems respectively, the flash of light is visible from each point whose distance to the origin is exactly $t$ or $t'$ respectively, as we work in units where the speed of light is equal to one. In other words, all points whose space time coordinates satisfy:\n",
    "\n",
    "In $S: x^2 - t^2 = 0$\n",
    "\n",
    "In $S': (x')^2 - (t')^2 = 0$\n",
    "\n",
    "The two expressions are both equal to 0, and therefore equal to each other. They also resemble the ordinary inner product of two vectors, except for the minus sign in front of the $t$. We therefore define a new inner product in Minkowski space:\n",
    "\n",
    "Let $\\eta = \\begin{pmatrix} -1 & 0 \\\\ 0 & 1 \\end{pmatrix}$. Then the Minkowski inner product between two vectors $w_1$ and $w_2$ is: $w_1 \\otimes w_2 = w_1 \\eta w_2 = x_1x_2 -t_1t_2 $.\n",
    "\n",
    "Note that the Minkowski inner product of a vector with itself is then $\\Lambda$-invariant, *i.e.* the same in $S$ and $S'$.\n",
    "\n",
    "**Exercise 2.1**\n",
    "\n",
    "Show that $w_1 \\otimes w_2 = w_2 \\otimes w_1$.\n",
    "\n",
    "**Exercise 2.2**\n",
    "\n",
    "Show that $w_1 \\otimes (w_2 + w_3) = w_1\\otimes w_2 + w_1 \\otimes w_3$. \n",
    "\n",
    "**Exercise 2.3**\n",
    "\n",
    "Show that $e_1, e_2$ is in fact an orthonormal basis for Minkowski space.\n",
    "\n",
    "**Exercise 2.4**\n",
    "\n",
    "Show that while $\\begin{pmatrix} 1 \\\\ 1 \\end{pmatrix}, \\begin{pmatrix} 1 \\\\ -1 \\end{pmatrix}$ is an orthogonal basis for Euclidean space, it is not for Minkowski space.\n",
    "\n",
    "**Exercise 2.5**\n",
    "\n",
    "Find similarly two vectors which makes an orthogonal basis for Minkowski space and not Euclidean space.\n",
    "\n",
    "**Exercise 2.6**\n",
    "\n",
    "Sometimes the Minkowski inner product is defined slightly differently, with $\\eta = \\begin{pmatrix} 1 & 0 \\\\ 0 & -1 \\end{pmatrix}$. Convince yourself that the conclusions from **Exercise 2.1-2.4** still holds with this redefinition. (You don't need to write any answer)"
   ]
  },
  {
   "cell_type": "markdown",
   "metadata": {},
   "source": [
    "**Answer 2.1**\n",
    "\n",
    "$$ w_1\\otimes w_2=\\begin{pmatrix} t_1 \\\\ x_1 \\end{pmatrix} \\otimes \\begin{pmatrix} t_2 \\\\ x_2 \\end{pmatrix}=\\begin{pmatrix} t_1 \\\\ x_1 \\end{pmatrix}\\begin{pmatrix} -1 & 0 \\\\ 0 & 1 \\end{pmatrix}\\begin{pmatrix} t_2 \\\\ x_2 \\end{pmatrix}=\\begin{pmatrix} -t_1 \\\\ x_1 \\end{pmatrix}\\begin{pmatrix} t_2 \\\\ x_2 \\end{pmatrix}=x_1 x_2 - t_1 t_2 $$\n",
    "\n",
    "$$ w_2\\otimes w_1=\\begin{pmatrix} t_2 \\\\ x_2 \\end{pmatrix} \\otimes \\begin{pmatrix} t_1 \\\\ x_1 \\end{pmatrix}=\\begin{pmatrix} t_2 \\\\ x_2 \\end{pmatrix}\\begin{pmatrix} -1 & 0 \\\\ 0 & 1 \\end{pmatrix}\\begin{pmatrix} t_1 \\\\ x_1 \\end{pmatrix}=\\begin{pmatrix} -t_2 \\\\ x_2 \\end{pmatrix}\\begin{pmatrix} t_1 \\\\ x_1 \\end{pmatrix}=x_1 x_2 - t_1 t_2 $$\n",
    "\n",
    "This means that $w_1\\otimes w_2=w_2\\otimes w_1$.\n"
   ]
  },
  {
   "cell_type": "markdown",
   "metadata": {},
   "source": [
    "** Answer 2.2 ** \n",
    "$$ w_1 \\otimes (w_2+w_3)= \\begin{pmatrix} t_1 \\\\ x_1 \\end{pmatrix} \\begin{pmatrix} -1 & 0 \\\\ 0 & 1 \\end{pmatrix}\\left(\\begin{pmatrix} t_2 \\\\ x_2 \\end{pmatrix}+\\begin{pmatrix} t_3 \\\\ x_3 \\end{pmatrix}\\right)=\n",
    "\\begin{pmatrix} -t_1 \\\\ x_1 \\end{pmatrix}\\left(\\begin{pmatrix} t_2 \\\\ x_2 \\end{pmatrix}+\\begin{pmatrix} t_3 \\\\ x_3 \\end{pmatrix}\\right)\n",
    "= \\\\ \\begin{pmatrix} -t_1 \\\\ x_1 \\end{pmatrix}\\begin{pmatrix} t_2 \\\\ x_2 \\end{pmatrix}+\\begin{pmatrix} -t_1 \\\\ x_1 \\end{pmatrix}\\begin{pmatrix} t_3 \\\\ x_3 \\end{pmatrix}=w_1 \\otimes w_2 +w_1 \\otimes w_3 $$"
   ]
  },
  {
   "cell_type": "markdown",
   "metadata": {},
   "source": [
    "** Answer 2.3 **\n",
    "\n",
    "$$ e_1 \\otimes e_2= \\begin{pmatrix}1\\\\ 0 \\end{pmatrix}\\begin{pmatrix} -1 & 0 \\\\ 0 & 1 \\end{pmatrix}\\begin{pmatrix} 0 \\\\ 1 \\end{pmatrix}=\\begin{pmatrix}-1\\\\ 0 \\end{pmatrix}\\begin{pmatrix}0\\\\1 \\end{pmatrix}=0 $$\n",
    "\n",
    "This means that $e_1$ and $e_2$ is a orthonormal basis for Minkowski space."
   ]
  },
  {
   "cell_type": "markdown",
   "metadata": {
    "collapsed": true
   },
   "source": [
    "** Answer 2.4 **\n",
    "\n",
    "Euclidean space:\n",
    "$$ \\begin{pmatrix} 1 \\\\ 1 \\end{pmatrix} \\begin{pmatrix} 1 \\\\ -1 \\end{pmatrix}=1-1=0 $$\n",
    "\n",
    "Minkowski space:\n",
    "$$ \\begin{pmatrix} 1 \\\\ 1 \\end{pmatrix} \\otimes \\begin{pmatrix} 1 \\\\ -1 \\end{pmatrix}=\\begin{pmatrix} 1 \\\\ 1 \\end{pmatrix} \\begin{pmatrix} -1 & 0 \\\\ 0 & 1 \\end{pmatrix}\\begin{pmatrix} 1 \\\\ -1 \\end{pmatrix}\n",
    "  =\\begin{pmatrix} -1 \\\\ 1 \\end{pmatrix}\\begin{pmatrix} 1 \\\\ -1 \\end{pmatrix}=-1-1=-2 $$\n",
    "\n",
    "The vectors form an orthogonal basis for Euclidean space but not for Minkowski space."
   ]
  },
  {
   "cell_type": "markdown",
   "metadata": {
    "collapsed": true
   },
   "source": [
    "** Answer 2.5 **\n",
    "\n",
    "Here we see an example of the vectors that form an orthogonal basis for Minkowski space but not for Euclidean space.\n",
    "\n",
    "Euclidean space:\n",
    "$$ \\begin{pmatrix} 1 \\\\ 2 \\end{pmatrix} \\begin{pmatrix} 2 \\\\ 1 \\end{pmatrix}= 2+2=4 $$\n",
    "\n",
    "Minkowski space:\n",
    "$$ \\begin{pmatrix} 1 \\\\ 2 \\end{pmatrix} \\otimes \\begin{pmatrix} 2 \\\\ 1 \\end{pmatrix}=\\begin{pmatrix} 1 \\\\ 2 \\end{pmatrix} \\begin{pmatrix} -1 & 0 \\\\ 0 & 1 \\end{pmatrix}\\begin{pmatrix} 2 \\\\ 1 \\end{pmatrix}=\\begin{pmatrix} 1 \\\\ 2 \\end{pmatrix}\\begin{pmatrix} -2 \\\\ 1 \\end{pmatrix}=-2+2=0 $$"
   ]
  },
  {
   "cell_type": "markdown",
   "metadata": {},
   "source": [
    "### Lorentz transformation\n",
    "We are now ready to find the desired transformation matrix. We write it in the most general way, and use our knowledge about its behaviour to establish connections between its elements. The most general way of writing $\\Lambda$, is:\n",
    "$\\Lambda = \\begin{pmatrix} a & b \\\\ c & d \\end{pmatrix}$.\n",
    "\n",
    "Let us first consider the transformation of the origin. Since we know (from the postulates) that the origins coincides at $t = t' = 0$, we can write:\n",
    "\n",
    "Origin of $S$: $\\begin{pmatrix}t' \\\\ -vt'\\end{pmatrix} = \\Lambda \\begin{pmatrix} t \\\\ 0 \\end{pmatrix}$\n",
    "\n",
    "Origin of $S'$: $\\begin{pmatrix}t' \\\\ 0\\end{pmatrix} = \\Lambda \\begin{pmatrix} t \\\\ vt \\end{pmatrix}$ \n",
    "\n",
    "\n",
    "**Exercise 2.7: Simplification of $\\Lambda$**\n",
    "\n",
    "Use the above two equations to simplify $\\Lambda$ to:\n",
    "$\\Lambda = \\begin{pmatrix} a & b \\\\ -va & a \\end{pmatrix}$.\n",
    "\n",
    "**Exercise 2.8: Final derivation of $\\Lambda$**\n",
    "\n",
    "We can use the result from **2.7** and the fact that the Minkowski inner product of a vector with itself is $\\Lambda$-invariant, to constrain the elements of $\\Lambda$ even further. Write up a vector $w=\\begin{pmatrix} t \\\\ x \\end{pmatrix}$ in $S$ and $S'$, using the general form of $\\Lambda$ derived in **Exercise 2.7**. Show that $a$ and $b$ are further constrained by:\n",
    "\n",
    "$b = -av$ and $a = \\frac{1}{\\sqrt{1-v^2}}$.\n",
    "\n",
    "by requiring that $w$ is $\\Lambda$ invariant.\n",
    "\n",
    "\n"
   ]
  },
  {
   "cell_type": "markdown",
   "metadata": {},
   "source": [
    "** Answer 2.7 **\n",
    "\n",
    "$S: \\begin{pmatrix} t' \\\\ -vt' \\end{pmatrix}=\\Lambda \\begin{pmatrix} t \\\\ 0 \\end{pmatrix}=\\begin{pmatrix} a & b \\\\ c & d \\end{pmatrix}\\begin{pmatrix} t \\\\ 0 \\end{pmatrix}=\\begin{pmatrix} at \\\\ ct \\end{pmatrix} \\Rightarrow \\begin{pmatrix} at \\\\ ct\\end{pmatrix}=\\begin{pmatrix} t' \\\\ -vt' \\end{pmatrix}=t'\\begin{pmatrix} 1 \\\\ -v \\end{pmatrix} \\Rightarrow t\\begin{pmatrix} a \\\\ c \\end{pmatrix}=t'\\begin{pmatrix} 1 \\\\ -v \\end{pmatrix} \\Rightarrow a=\\frac{t'}{t} , c=a(-v)$\n",
    " \n",
    "$S': \\begin{pmatrix} t' \\\\ 0 \\end{pmatrix}=\\begin{pmatrix} a & b \\\\ c & d \\end{pmatrix}\\begin{pmatrix} t \\\\ vt \\end{pmatrix}=\\begin{pmatrix} at+bvt \\\\ ct+dvt \\end{pmatrix} \\Rightarrow \\begin{pmatrix} 1 \\\\ 0 \\end{pmatrix}=\\frac{1}{t'}\\begin{pmatrix} at+bvt \\\\ ct+dvt \\end{pmatrix}= \\begin{pmatrix} \\frac{a}{a}+\\frac{b}{a'}vt \\\\ \\frac{-a}{a'}v+\\frac{d}{a'}v \\end{pmatrix}\\Rightarrow 1=1+\\frac{b}{a'}v , 0=-v+\\frac{d}{a'}v \\Rightarrow d =a \\Rightarrow \\Lambda = \\begin{pmatrix} a & b \\\\ -av & a \\end{pmatrix}$"
   ]
  },
  {
   "cell_type": "markdown",
   "metadata": {},
   "source": [
    "** Answer 2.8 **\n",
    "\n",
    "Invariance gives:\n",
    "\n",
    "\\begin{align}\n",
    "\\Lambda w \\otimes \\Lambda w &= w \\otimes w \\\\ \n",
    "(at+bx)^2-(-vat+ax)^2 &= t^2 -x^2 \\\\\n",
    "a^2t^2+2atbx+b^2x^2-v^2a^2t^2+2va^2tx-a^2x^2 &= t^2 -x^2 \\\\ \n",
    "t^2(a^2-v^2a^2)+x^2(b^2-a^2)+tx(2ab+2va^2) &= t^2 -x^2 \n",
    "\\end{align}\n",
    "\n",
    "We can see that the expressen before $t^2$ must be equal to one, the one before $x^2$ should be equal to -1 and the $tx$ term should be equal to zero. \n",
    "\n",
    "$$\n",
    "\\begin{cases}\n",
    "\\begin{align}\n",
    "a^2 - v^2 a^2 &= 1 \\\\\n",
    "b^2 - a^2 &= -1 \\\\\n",
    "2ba + 2va^2 &= 0\n",
    "\\end{align}\n",
    "\\end{cases}\n",
    "$$\n",
    "\n",
    "$$\n",
    "\\begin{cases}\n",
    "\\begin{align}\n",
    "a^2(1-v^2) &= 1 \\\\\n",
    "b^2 - a^2 &= -1 \\\\\n",
    "2ba + 2va^2 &= 0\n",
    "\\end{align}\n",
    "\\end{cases}\n",
    "$$\n",
    "\n",
    "$$\n",
    "\\begin{cases}\n",
    "\\begin{align}\n",
    "a &= \\frac{1}{\\sqrt{1-v^2}} \\\\\n",
    "b^2 &= a^2 - 1 \\\\\n",
    "2ba + 2va^2 &= 0\n",
    "\\end{align}\n",
    "\\end{cases}\n",
    "$$\n",
    "\n",
    "From this we can express $b$ with two equations. We chose the third equation in the system. \n",
    "\n",
    "\\begin{align}\n",
    "2ba + 2va^2 &= 0 \\\\\n",
    "2ba &= -2va^2 \\\\\n",
    "b &= -va\n",
    "\\end{align}\n",
    "\n",
    "Therefore we have shown that $b = -av$ and $a = \\frac{1}{\\sqrt{1-v^2}}$, as this is true for the second equation aswell.\n"
   ]
  },
  {
   "cell_type": "markdown",
   "metadata": {},
   "source": [
    "### The transformation matrix\n",
    "You have now derived the Lorentz transformation matrix:\n",
    "$\\Lambda = \\frac{1}{\\sqrt{1-v^2}}\\begin{pmatrix} 1 & -v \\\\ -v & 1 \\end{pmatrix}$. \n",
    "\n",
    "Before moving on and implementing it in Python, we will show a couple of properties.\n",
    "\n",
    "**Exercise 2.9**\n",
    "\n",
    "Write up $\\Lambda$ in four dimensions (still only with velocity in the $x$-direction). Restore missing factors of $c$ in the matrix.\n",
    "\n",
    "**Exercise 2.10: Inverse transformation**\n",
    "\n",
    "Write up the transformation from $S'$ to $S$ in two ways. First by replacing $v$ with $-v$, then by inverting $\\Lambda$. Show that the two approaches gives an identical result.\n",
    "\n",
    "**Exercise 2.11: Time dilation**\n",
    "\n",
    "A spaceship leaves Earth at a fixed velocity $v$ relative to Earth. At time $t$, measured on Earth, derive how long time will have passed measured in the spaceship.\n",
    "\n",
    "**Exercise 2.12: Relativistic velocity addition**\n",
    "\n",
    "Consider three coordinate systems, $S$, $S'$ and $S''$. The speed of $S'$ wrt. $S$ is $v_1$ and the speed of $S''$ wrt. $S'$ is $v_2$. What is the speed ($v_3$) of $S''$ wrt. $S$? To test your result you can insert the limiting case $v_2$ being the speed of light, since that should be the same in $S$ and $S'$.\n",
    "\n",
    "**Exercise 2.13: Reducing to Galilei**\n",
    "\n",
    "Show that in the limit $v \\ll c$, $\\Lambda$ reduces to $\\Gamma$. For this exercise, use the version of $\\Lambda$ where factors of $c$ have been recovered."
   ]
  },
  {
   "cell_type": "markdown",
   "metadata": {},
   "source": [
    "** Answer 2.9 **\n",
    "\n",
    "$\\Lambda$ in four dimensions \n",
    "\n",
    "$ \\Lambda = \\frac{1}{\\sqrt{1-v^2}} \\begin{pmatrix}1&-v&0&0\\\\-v&1&0&0\\\\0&0&\\sqrt{1-v^2}&0\\\\0&0&0&\\sqrt{1-v^2} \\end{pmatrix} $\n",
    "\n",
    "$\\Lambda w =\\begin{pmatrix}t'\\\\x'\\\\y\\\\z\\end{pmatrix}=\\frac{1}{\\sqrt{1-v^2}}\\begin{pmatrix}1&-v&0&0\\\\-v&1&0&0\\\\0&0&\\sqrt{1-v^2}&0\\\\0&0&0&\\sqrt{1-v^2} \\end{pmatrix}\\begin{pmatrix}t\\\\x\\\\y\\\\z\\end{pmatrix}=\\begin{pmatrix}t-vx\\\\x-vt\\\\y\\\\z\\end{pmatrix}$\n",
    "\n",
    "The units in the last matrix should be time ($s$) for the first row and distance ($m$) for the remaining rows. As we can see this is not the case in the first row and if we would multiple every row with $\\frac{1}{\\sqrt{1-v^2}}$ no units would be correct. To fix this we restore missing factors of $c$.\n",
    "\n",
    "\n",
    "$\\Lambda = \\frac{1}{\\sqrt{1-\\frac{v^2}{c^2}}} \\begin{pmatrix}1&\\frac{-v}{c^2}&0&0\\\\-v&1&0&0\\\\0&0&\\sqrt{1-\\frac{v^2}{c^2}}&0\\\\0&0&0&\\sqrt{1-\\frac{v^2}{c^2}} \\end{pmatrix} $"
   ]
  },
  {
   "cell_type": "markdown",
   "metadata": {},
   "source": [
    "**Answer 2.10**\n",
    "\n",
    "$\\Lambda^{-1} = \\begin{pmatrix}1&v&0&0\\\\v&1&0&0\\\\0&0&1&0\\\\0&0&0&1 \\end{pmatrix}\\frac{1}{\\sqrt{1-v^2}}$\n",
    "\n",
    "$$\\begin{vmatrix}1&-v&0&0\\\\-v&1&0&0\\\\0&0&1&0\\\\0&0&0&1 \\end{vmatrix}\\begin{vmatrix}1&0&0&0\\\\0&1&0&0\\\\0&0&1&0\\\\0&0&0&1 \\end{vmatrix} $$ Multiply row one with $\\frac{1}{v}$ and add to row two. Do likewise with row two. $$ \\begin{vmatrix}1&0&0&0\\\\0&1&0&0\\\\0&0&1&0\\\\0&0&0&1 \\end{vmatrix}\\begin{vmatrix}1&v&0&0\\\\v&1&0&0\\\\0&0&1&0\\\\0&0&0&1 \\end{vmatrix}$$"
   ]
  },
  {
   "cell_type": "markdown",
   "metadata": {},
   "source": [
    "**Answer 2.11**\n",
    "\n",
    "$\\Lambda=\\begin{pmatrix} 1 & -v \\\\ -v & 1 \\end{pmatrix}, \\gamma =\\frac{1}{\\sqrt{1-v^2}}$\n",
    "\n",
    "$\\Lambda\\begin{pmatrix}t\\\\x\\end{pmatrix}=\\begin{pmatrix}t'\\\\x'\\end{pmatrix}\\Rightarrow \\frac{1}{\\sqrt{1-v^2}}\\begin{pmatrix}t-vx\\\\x-vt\\end{pmatrix}=\\begin{pmatrix}t'\\\\x'\\end{pmatrix}\\Rightarrow t'=\\gamma(t-vx)$"
   ]
  },
  {
   "cell_type": "markdown",
   "metadata": {},
   "source": [
    "**Answer 2.12**\n",
    "\n",
    "The system $S''$ has coordinates $(t',x')$ in $S'$ and a relative velocity to $S'$ \n",
    "\n",
    "$$\n",
    "v_2 = \\frac{dx'}{dt'}.\n",
    "$$\n",
    "\n",
    "We know that $(t,x) = \\Lambda^{-1} (t', x')$ where $(t,x)$ is $S''$ coordinates in $S$ and that $S''$ has the relative velocity \n",
    "\n",
    "$$\n",
    "v_3 = \\frac{dx}{dt}.\n",
    "$$\n",
    "\n",
    "Thus,\n",
    "\n",
    "$$\n",
    "\\begin{pmatrix}\n",
    "    dt\\\n",
    "    dx\n",
    "    \\end{pmatrix}\n",
    "    = \\gamma\n",
    "    \\begin{pmatrix}\n",
    "    dt' + \\frac{v_{1}dx'}{c^2} \\\n",
    "    dx' + v_{1}dt'\n",
    "\\end{pmatrix}\n",
    "$$\n",
    "\n",
    "and\n",
    "\n",
    "\\begin{align}\n",
    "v_{3} &=\n",
    "\\frac{\\gamma}{\\gamma}\n",
    "\\frac{dx' + v_{1}dt'}{dt' + \\frac{v_{1}dx'}{c^2}} \\\\\n",
    "&= \\frac{(dx' + v_{1}dt')\\frac{1}{dt'}}{(dt' + \\frac{v_{1}dx'}{c^2})\\frac{1}{dt'}} \\\\\n",
    "&= \\frac{v_{2} + v_{1}}{1 + \\frac{v_{1}v_{2}}{c^2}}.\n",
    "\\end{align}\n",
    "\n",
    "\n",
    "We now have a  expression for the relativistic addition of velocity.\n",
    "\n",
    "Testing with $v_2 = c$,\n",
    "\n",
    "\\begin{align}\n",
    "    v_3 &= \\frac{c + v_1}{1 + \\frac{v_1c}{c^2}} \\\\\n",
    "        &= \\frac{c + v_1}{\\frac{c + v_1}{c}} \\\\\n",
    "        &= c\n",
    "\\end{align}\n",
    "\n",
    "We see that no mater how fast $S'$ moves in relation to $S$ $S''$ will move with the speed of light in both system.\n"
   ]
  },
  {
   "cell_type": "markdown",
   "metadata": {},
   "source": [
    "**Answer 2.13**\n",
    "\n",
    "$\\Lambda= \\frac{1}{\\sqrt{1-\\frac{v^2}{c^2}}} \\begin{pmatrix} 1 & -\\frac{v}{c^2} \\\\ -v & 1 \\end{pmatrix} $\n",
    "\n",
    "If $v << c$, then $ \\frac{-v}{c^2} \\rightarrow 0$ and $ \\frac{1}{\\sqrt{1-\\frac{v^2}{c^2}}} \\rightarrow 1 $. Therefore we get the same matrix as $\\Gamma$. \n",
    "\n",
    "$ \\begin{pmatrix} 1 & 0 \\\\ -v & 1 \\end{pmatrix} = \\Gamma $\n"
   ]
  },
  {
   "cell_type": "markdown",
   "metadata": {},
   "source": [
    "# 3. Time dilation and relativistic aberration\n",
    "The transformation matrix have now been derived by you, and you are now ready to start solving exercises using it. We will again solve the problem programmatically in Python.\n",
    "\n",
    "**Exercise 3.1**\n",
    "Write a FourVector class with the following methods:\n",
    "* A constructor taking arguments x1, x2, x3 and x4, which should be set as attributes for the object.\n",
    "* A Minkowski product method, which takes as input another four vector, and returns the Minkowski product of the two.    \n",
    "* A method which takes as input a velocity in the $x$-direction. This is the velocity of another frame, relative to the frame where your FourVector lives. The method should return a new FourVector, boosted to the new system.\n",
    "\n",
    "Calculate two examples for each of the methods by hand, and use them to control that your implementation works.\n",
    "\n",
    "**Exercise 3.2: Time dilation**\n",
    "We now want to investigate the phenomenon of time dilation, using our FourVector class. We imagine a space rocket travelling away from earth with a velocity $v$.\n",
    "\n",
    "* Use the method defined in exercise 3.1 for transforming a FourVector to construct a figure showing the time on earth, as percieved by the astronaut in the spaceship (or vice versa), as a function of velocity.\n",
    "\n",
    "**Exercise 3.3: Relativistic aberration**\n",
    "We can now solve the aberration problem from exercise 1.3 with relativistic corrections.\n",
    "* Write up the transformation for a *spatial* velocity vector ($v_x, v_y, v_z$), when transformed by a velocity in the $x$ direction. (Ignore the time component, as this will not be of use here anyway.\n",
    "* Construct a class representing a velocity, call it VelocityVector. \n",
    "* Add a method which takes as input a velocity (in the $x$ direction) and returns a new VelocityVector where the  components are transformed accordingly.\n",
    "* Construct, similarly to exercise 1.3, a plot af $\\phi(v)$. Compare the 90$^\\circ$ case to the analytic one that, in this case, reads $\\phi(v) = 90^\\circ - \\text{asin}(v/c)$\n",
    "* Comment on the differences between the classical and the relativistic case.\n",
    "* Bonus exercise to solve for fun: Use the formulas for velocity addition you derived in exercise 2.12 to derive the full analytic solution to the problem. Verify that it reduces to the above solution for $\\theta = 90^\\circ$."
   ]
  },
  {
   "cell_type": "markdown",
   "metadata": {
    "collapsed": true
   },
   "source": [
    "** Answer 3.1 **\n",
    "\n",
    "We know that,\n",
    "$$t'=\\gamma(t-vx)$$\n",
    "$$x'=\\gamma(x-vt).$$\n",
    "\n",
    "Vector $(1, 2, 3, 4)$ and $v=0.3$ is our first example. Then, \n",
    "\n",
    "$$ t'=\\frac{1}{\\sqrt{1-0.3^2}}(1-0.3\\times2)\\approx 0.419 \\space\\text{s}$$\n",
    "$$ x'=\\frac{1}{\\sqrt{1-0.3^2}}(2-0.3\\times1)\\approx 1.782  \\space\\text{m/s}$$\n",
    "\n",
    "Vector $(1, 3, 5, 7)$ and $v=0.9$ is our second example. Then, \n",
    "\n",
    "$$ t'=\\frac{1}{\\sqrt{1-0.9^2}}(1-0.9\\times3)\\approx -3.900 \\space\\text{s}$$\n",
    "$$ x'=\\frac{1}{\\sqrt{1-0.9^2}}(3-0.9\\times1)\\approx 4.818  \\space\\text{m/s}$$\n"
   ]
  },
  {
   "cell_type": "code",
   "execution_count": 1,
   "metadata": {
    "collapsed": true
   },
   "outputs": [],
   "source": [
    "from scipy import * \n",
    "import numpy as np\n",
    "import matplotlib.pyplot as plt\n",
    "\n",
    "#Exercise 3.1\n",
    "\n",
    "class FourVector:\n",
    "\t\n",
    "\tdef __init__(self, x1, x2, x3, x4):\n",
    "\t\tself.x1 = x1\n",
    "\t\tself.x2 = x2\n",
    "\t\tself.x3 = x3\n",
    "\t\tself.x4 = x4\n",
    "\t\tself.ProductMatrix = np.array([[-1,0,0,0],[0,1,0,0],[0,0,1,0],[0,0,0,1]])\n",
    "\t\t\n",
    "\tdef Minkowski(self, vec): #vec is the FourVector which should be multiplyed with.\n",
    "\t\treturn matmul(np.array([self.x1, self.x2, self.x3, self.x4]),matmul(self.ProductMatrix, np.array([vec.x1, vec.x2, vec.x3, vec.x4])))\n",
    "\t\t#Above is based on the defenition of the Minkowski product given in excersice 2.\n",
    "       \n",
    "        #note c = 1\n",
    "\tdef Transform(self, velocity, showVector=False):\n",
    "\t\tgamma = 1/sqrt(1 - velocity**2) #define the gamma factor and the Lambda matrix below.\n",
    "\t\tLambda = gamma * np.array([[1, -velocity, 0, 0], [-velocity, 1, 0, 0], [0, 0, 1/gamma, 0], [0, 0, 0, 1/gamma]])\n",
    "\t\tT = matmul(Lambda, np.array([self.x1, self.x2, self.x3, self.x4])) # Matrix multiplication of Lambda and the original\n",
    "\t\tif showVector == True:\n",
    "\t\t\treturn np.array([T[0], T[1], T[2], T[3]])\n",
    "\t\telse:\n",
    "\t\t\treturn FourVector(T[0], T[1], T[2], T[3])\n",
    "        # vector gives the transformed vector"
   ]
  },
  {
   "cell_type": "code",
   "execution_count": 2,
   "metadata": {},
   "outputs": [
    {
     "name": "stdout",
     "output_type": "stream",
     "text": [
      "ex1: t prime =0.419313934689 x prime =1.78208422243\n",
      "ex2: t prime =-3.9000674758 x prime =4.81773041128\n"
     ]
    }
   ],
   "source": [
    "#verifying our calculations in exercise 3.1\n",
    "\n",
    "Example1 = FourVector(1, 2, 3, 4)\n",
    "ex1 = Example1.Transform(0.3, showVector=True)\n",
    "\n",
    "Example2 = FourVector(1, 3, 5, 7)\n",
    "ex2 = Example2.Transform(0.9, showVector=True)\n",
    "\n",
    "print('ex1: t prime =' + str(ex1[0]), 'x prime =' + str(ex1[1]))\n",
    "print('ex2: t prime =' + str(ex2[0]), 'x prime =' + str(ex2[1]))"
   ]
  },
  {
   "cell_type": "code",
   "execution_count": 3,
   "metadata": {},
   "outputs": [
    {
     "data": {
      "image/png": "[encoded data removed]",
      "text/plain": [
       "<matplotlib.figure.Figure at 0x112a6f240>"
      ]
     },
     "metadata": {},
     "output_type": "display_data"
    }
   ],
   "source": [
    "#Exercice 3.2\n",
    "\n",
    "#at time t=1 (from the astronauts perspective)\n",
    "astronaut = FourVector(1,0,0,0)\n",
    "ylist = []\n",
    "xlist = []\n",
    "\n",
    "for n in linspace(0,1, 1000, False):\n",
    "\t#print(astronaut.Transform(n))\n",
    "\txlist.append(n)\n",
    "\tylist.append(astronaut.Transform(n, showVector=True)[0])\n",
    "\t\n",
    "plt.plot(xlist, ylist)\n",
    "plt.title(\"Astronaut time t = 1\")\n",
    "plt.xlabel(\"Velocity\")\n",
    "plt.ylabel(\"Earth time\")\n",
    "\n",
    "plt.show()"
   ]
  },
  {
   "cell_type": "markdown",
   "metadata": {},
   "source": [
    "** Answer 3.3 **\n",
    "\n",
    "We know from exercise 2.12 that\n",
    "\n",
    "$$ v_x' = \\frac{v_x + v}{1 + v_x v}. $$\n",
    "\n",
    "From exercise 2.9 we know that $ dt'=\\gamma(dt-udx), dy'=dy \\space \\text{and} \\space dz'=dz $, where $u$ is the veolicty between the systems along the x-axis. We can then express $\\frac{dy'}{dt'}$ as following, \n",
    "\n",
    "$$ \\frac{dy'}{dt'} = \\frac{dy}{\\gamma(dt-udx)} = \\frac{dy \\frac{1}{dt}}{\\gamma(\\frac{dt-udx}{dt})} = \\frac{\\gamma^{-1}v_y}{1-uv_x}. $$\n",
    "\n",
    "Conclusion, \n",
    "\n",
    "$$ v_y' = \\frac{\\gamma^{-1}v_y}{1-uv_x} $$\n",
    "\n",
    "and by symmetry, \n",
    "\n",
    "$$ v_z' = \\frac{\\gamma^{-1}v_z}{1-uv_z}. $$\n",
    "\n",
    "Therefore, the transformation for a spatial velocity vector is the following: \n",
    "\n",
    "$$\n",
    "\\begin{pmatrix}\n",
    "\\frac{v_x + v}{1 + v_x v} \\\\ \\frac{\\gamma^{-1}v_y}{1-uv_x} \\\\ \\frac{\\gamma^{-1}v_z}{1-uv_z}\n",
    "\\end{pmatrix}\n",
    "$$\n"
   ]
  },
  {
   "cell_type": "code",
   "execution_count": 4,
   "metadata": {
    "collapsed": true
   },
   "outputs": [],
   "source": [
    "#Exercise 3.3\n",
    "\n",
    "class VelocityVector:\n",
    "\t\n",
    "\tdef __init__(self, vx, vy, vz):\n",
    "\t\t\n",
    "\t\tself.vx = vx\n",
    "\t\tself.vy = vy\n",
    "\t\tself.vz = vz\n",
    "\n",
    "\tdef Transform(self, velocity):\n",
    "\t\tgamma = 1/sqrt(1 - velocity**2) \n",
    "\t\t#Using the formula for velocity addition we derived in exercise 2.12\n",
    "\t\tvxprim = (self.vx + velocity)/(1 + self.vx * velocity)\n",
    "\t\tvyprim = (gamma**(-1)*self.vy)/(1-velocity*self.vx)\n",
    "\t\tvzprim = (gamma**(-1)*self.vz)/(1-velocity*self.vx)\n",
    "\t\treturn VelocityVector(vxprim, vyprim, vzprim)\n"
   ]
  },
  {
   "cell_type": "code",
   "execution_count": 13,
   "metadata": {},
   "outputs": [
    {
     "name": "stderr",
     "output_type": "stream",
     "text": [
      "/Applications/anaconda3/lib/python3.6/site-packages/ipykernel_launcher.py:12: RuntimeWarning: divide by zero encountered in double_scalars\n",
      "  if sys.path[0] == '':\n"
     ]
    },
    {
     "data": {
      "image/png": "[encoded data removed]",
      "text/plain": [
       "<matplotlib.figure.Figure at 0x11d118da0>"
      ]
     },
     "metadata": {},
     "output_type": "display_data"
    }
   ],
   "source": [
    "#Result 3.3\n",
    "\n",
    "def vector(deg): #This function creates an directionalvector in the stars direction when our ships vector is along the x-axis\n",
    "\tdeg = pi/180 *deg\n",
    "\treturn VelocityVector(np.cos(deg), np.sin(deg), 0)\n",
    "\n",
    "deglist = [90,80,70] #the theta angles\n",
    "\n",
    "for a in range(3):\n",
    "\tvtransform = []\n",
    "\tfor shipspeed in linspace(10e-4,1,100):\t\t\n",
    "\t\taprim = vector(deglist[a]).Transform(shipspeed)\n",
    "\t\tphi = np.arccos(dot(np.array([1,0,0]), np.array([aprim.vx,aprim.vy,aprim.vz]))) #transforming the stars directionalvector and projecting it on to the x-axis. \n",
    "\t\t#note that in the above row, we should divide the inside of the arccos with our directional vectors norm, which is equal to 1.\n",
    "\t\tvtransform.append(phi) #collect the data in a list, which will be plotted\n",
    "\t\t\n",
    "\tplt.plot(linspace(10e-4,1,100), vtransform) #ploting the angles with respect to shipspeed\n",
    "\tplt.legend(deglist)\n",
    "\tplt.xlabel('speed (c)')\t\n",
    "\tplt.ylabel('angle (radians)')\n",
    "    \n",
    "plt.show()"
   ]
  },
  {
   "cell_type": "code",
   "execution_count": 12,
   "metadata": {},
   "outputs": [
    {
     "data": {
      "image/png": "[encoded data removed]",
      "text/plain": [
       "<matplotlib.figure.Figure at 0x11d1052b0>"
      ]
     },
     "metadata": {},
     "output_type": "display_data"
    }
   ],
   "source": [
    "#Analytic result 3.3\n",
    "\n",
    "angle = []\n",
    "for v in linspace(10e-4,1,100):\n",
    "\tphi = pi/2 - np.arcsin(v)\n",
    "\tangle.append(phi)\n",
    "\t\n",
    "plt.plot(linspace(10e-4,1,100), angle) #ploting the angles with respect to v\n",
    "plt.legend(deglist)\n",
    "plt.xlabel('speed (c)')\t\n",
    "plt.ylabel('angle (raians)')\n",
    "\n",
    "plt.show()"
   ]
  },
  {
   "cell_type": "markdown",
   "metadata": {},
   "source": [
    "** Comparing the graphs to 1.3: **\n",
    "\n",
    "If we compare the graphs to the ones we did in exercise 1.3, we can see that in the relativistic case the differences between the different angles gets smaller as the velocity approach the speed of light. We can also see that in the in relativistic case it gets more dramatic (graph gets steeper) as is approach the speed of light, while in exercise 1.3 it was the opposite (the graph flattens out)."
   ]
  },
  {
   "cell_type": "code",
   "execution_count": null,
   "metadata": {
    "collapsed": true
   },
   "outputs": [],
   "source": []
  }
 ],
 "metadata": {
  "kernelspec": {
   "display_name": "Python 3",
   "language": "python",
   "name": "python3"
  },
  "language_info": {
   "codemirror_mode": {
    "name": "ipython",
    "version": 3
   },
   "file_extension": ".py",
   "mimetype": "text/x-python",
   "name": "python",
   "nbconvert_exporter": "python",
   "pygments_lexer": "ipython3",
   "version": "3.6.3"
  }
 },
 "nbformat": 4,
 "nbformat_minor": 2
}
